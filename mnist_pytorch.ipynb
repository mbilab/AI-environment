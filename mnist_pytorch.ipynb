{
 "cells": [
  {
   "cell_type": "markdown",
   "metadata": {},
   "source": [
    "## Import packages"
   ]
  },
  {
   "cell_type": "code",
   "execution_count": 1,
   "metadata": {},
   "outputs": [],
   "source": [
    "import numpy as np\n",
    "import torch\n",
    "import torch.nn as nn\n",
    "from torch.optim import Adam\n",
    "from torch.utils.data import Subset, DataLoader\n",
    "import torchvision\n",
    "import torchvision.transforms as transforms\n",
    "from torchvision.datasets import MNIST\n",
    "from sklearn.metrics import accuracy_score\n",
    "from matplotlib import pyplot as plt"
   ]
  },
  {
   "cell_type": "markdown",
   "metadata": {},
   "source": [
    "## Load Data"
   ]
  },
  {
   "cell_type": "code",
   "execution_count": 2,
   "metadata": {},
   "outputs": [],
   "source": [
    "def getMNISTDataLoader(batch_size):\n",
    "    print(\"Preparing data ...\")\n",
    "    train_subset_indices = np.arange(1000)\n",
    "    test_subset_indices = np.arange(100)\n",
    "    transform = transforms.ToTensor()\n",
    "    trainset = MNIST(root=\"./data\", train=True, download=True, transform=transform)\n",
    "    testset = MNIST(root=\"./data\", train=False, download=True, transform=transform)\n",
    "    sub_trainset = Subset(trainset, train_subset_indices)\n",
    "    sub_testset = Subset(testset, test_subset_indices)\n",
    "    trainloader = DataLoader(\n",
    "        sub_trainset, batch_size=batch_size, shuffle=True, num_workers=2\n",
    "    )\n",
    "    testloader = DataLoader(\n",
    "        sub_testset, batch_size=batch_size, shuffle=False, num_workers=2\n",
    "    )\n",
    "    print(\"Done\")\n",
    "    return trainloader, testloader"
   ]
  },
  {
   "cell_type": "code",
   "execution_count": 3,
   "metadata": {},
   "outputs": [
    {
     "name": "stdout",
     "output_type": "stream",
     "text": [
      "Preparing data ...\n",
      "Done\n"
     ]
    }
   ],
   "source": [
    "batch_size = 128\n",
    "trainloader, testloader = getMNISTDataLoader(batch_size)"
   ]
  },
  {
   "cell_type": "markdown",
   "metadata": {},
   "source": [
    "## Show random samples in dataset"
   ]
  },
  {
   "cell_type": "code",
   "execution_count": 4,
   "metadata": {},
   "outputs": [
    {
     "data": {
      "image/png": "[encoded data removed]",
      "text/plain": [
       "<Figure size 432x288 with 1 Axes>"
      ]
     },
     "metadata": {
      "needs_background": "light"
     },
     "output_type": "display_data"
    }
   ],
   "source": [
    "def imshow(img):\n",
    "    npimg = img.numpy()\n",
    "    plt.imshow(np.transpose(npimg, (1, 2, 0)))\n",
    "    plt.show()\n",
    "\n",
    "\n",
    "dataiter = iter(trainloader)\n",
    "images, labels = dataiter.next()\n",
    "imshow(torchvision.utils.make_grid(images[:5]))"
   ]
  },
  {
   "cell_type": "markdown",
   "metadata": {},
   "source": [
    "## Functions"
   ]
  },
  {
   "cell_type": "code",
   "execution_count": 5,
   "metadata": {},
   "outputs": [],
   "source": [
    "def train(model, dataloader, optimizer):\n",
    "    model.train()\n",
    "    total_loss = []\n",
    "    for data in dataloader:\n",
    "        x, y = data\n",
    "        _y = model(x)\n",
    "        loss = model.calc_loss(_y, y)\n",
    "        optimizer.zero_grad()\n",
    "        loss.backward()\n",
    "        optimizer.step()\n",
    "        total_loss.append(loss.item())\n",
    "    return np.mean(total_loss)"
   ]
  },
  {
   "cell_type": "code",
   "execution_count": 6,
   "metadata": {},
   "outputs": [],
   "source": [
    "def evaluate(model, dataloader):\n",
    "    model.eval()\n",
    "    total_loss = []\n",
    "    total_pred = []\n",
    "    total_y = []\n",
    "    with torch.no_grad():\n",
    "        for data in dataloader:\n",
    "            x, y = data\n",
    "            _y = model(x)\n",
    "            loss = model.calc_loss(_y, y)\n",
    "            total_loss.append(loss.item())\n",
    "            total_pred += torch.argmax(\n",
    "                torch.softmax(_y.detach().cpu(), -1), -1\n",
    "            ).tolist()\n",
    "            total_y += y.tolist()\n",
    "\n",
    "    result = {\n",
    "        \"loss\": np.mean(total_loss),\n",
    "        \"acc\": accuracy_score(total_y, total_pred),\n",
    "    }\n",
    "    return result"
   ]
  },
  {
   "cell_type": "code",
   "execution_count": 7,
   "metadata": {},
   "outputs": [],
   "source": [
    "def print_result(state, result):\n",
    "    print(f\">> {state} <<\")\n",
    "    for k, v in result.items():\n",
    "        print(f\". {k}: {v:.4f}\")"
   ]
  },
  {
   "cell_type": "code",
   "execution_count": 8,
   "metadata": {},
   "outputs": [],
   "source": [
    "def run(model, trainloader, testloader, optimizer, n_epochs):\n",
    "    train_results = []\n",
    "    test_results = []\n",
    "    print(\"Start Training ...\")\n",
    "    for epoch in range(1, n_epochs + 1):\n",
    "        avg_loss = train(model, trainloader, optimizer)\n",
    "        print(f\"\\nEpoch {epoch}/{n_epochs} avg_loss: {avg_loss:.4f}\")\n",
    "        train_result = evaluate(model, trainloader)\n",
    "        print_result(\"train\", train_result)\n",
    "        train_results.append(train_result)\n",
    "        test_result = evaluate(model, testloader)\n",
    "        print_result(\"test\", test_result)\n",
    "        test_results.append(test_result)\n",
    "    print(\"\\nFinished Training\")\n",
    "    return train_results, test_results"
   ]
  },
  {
   "cell_type": "markdown",
   "metadata": {},
   "source": [
    "## Model"
   ]
  },
  {
   "cell_type": "code",
   "execution_count": 9,
   "metadata": {},
   "outputs": [],
   "source": [
    "class Net(nn.Module):\n",
    "    def __init__(self, device):\n",
    "        super(Net, self).__init__()\n",
    "        self.device = device\n",
    "        self.model = nn.Sequential(\n",
    "            nn.Conv2d(1, 16, kernel_size=3, padding=3 // 2),\n",
    "            nn.ReLU(),\n",
    "            nn.MaxPool2d(2, 2),\n",
    "            nn.Conv2d(16, 64, kernel_size=3, padding=3 // 2),\n",
    "            nn.ReLU(),\n",
    "            nn.MaxPool2d(2, 2),\n",
    "            nn.Conv2d(64, 128, kernel_size=3, padding=3 // 2),\n",
    "            nn.ReLU(),\n",
    "            nn.MaxPool2d(2, 2),\n",
    "        )\n",
    "        self.fc = nn.Sequential(\n",
    "            nn.Linear(128 * 3 * 3, 32),\n",
    "            nn.ReLU(),\n",
    "            nn.Linear(32, 10),\n",
    "        )\n",
    "        self.loss_fn = nn.CrossEntropyLoss()\n",
    "\n",
    "    def forward(self, x):\n",
    "        x = x.to(self.device).float()\n",
    "        x = self.model(x)\n",
    "        x = x.view(x.shape[0], -1)\n",
    "        x = self.fc(x)\n",
    "        return x\n",
    "\n",
    "    def calc_loss(self, _y, y):\n",
    "        return self.loss_fn(_y, y.to(self.device))"
   ]
  },
  {
   "cell_type": "markdown",
   "metadata": {},
   "source": [
    "## Set parameters"
   ]
  },
  {
   "cell_type": "code",
   "execution_count": 10,
   "metadata": {
    "scrolled": true
   },
   "outputs": [],
   "source": [
    "n_epochs = 10\n",
    "lr = 1e-3"
   ]
  },
  {
   "cell_type": "code",
   "execution_count": 11,
   "metadata": {},
   "outputs": [],
   "source": [
    "device = torch.device(\"cuda\" if torch.cuda.is_available() else \"cpu\")\n",
    "model = Net(device).to(device)\n",
    "optimizer = Adam(model.parameters(), lr=lr)"
   ]
  },
  {
   "cell_type": "markdown",
   "metadata": {},
   "source": [
    "## Start training"
   ]
  },
  {
   "cell_type": "code",
   "execution_count": 12,
   "metadata": {},
   "outputs": [
    {
     "name": "stdout",
     "output_type": "stream",
     "text": [
      "Start Training ...\n",
      "\n",
      "Epoch 1/10 avg_loss: 2.2962\n",
      ">> train <<\n",
      ". loss: 2.2723\n",
      ". acc: 0.3050\n",
      ">> test <<\n",
      ". loss: 2.2666\n",
      ". acc: 0.3100\n",
      "\n",
      "Epoch 2/10 avg_loss: 2.2417\n",
      ">> train <<\n",
      ". loss: 2.1729\n",
      ". acc: 0.4500\n",
      ">> test <<\n",
      ". loss: 2.1529\n",
      ". acc: 0.4600\n",
      "\n",
      "Epoch 3/10 avg_loss: 2.0704\n",
      ">> train <<\n",
      ". loss: 1.8843\n",
      ". acc: 0.3630\n",
      ">> test <<\n",
      ". loss: 1.8742\n",
      ". acc: 0.4100\n",
      "\n",
      "Epoch 4/10 avg_loss: 1.6535\n",
      ">> train <<\n",
      ". loss: 1.3705\n",
      ". acc: 0.5550\n",
      ">> test <<\n",
      ". loss: 1.3201\n",
      ". acc: 0.6300\n",
      "\n",
      "Epoch 5/10 avg_loss: 1.1576\n",
      ">> train <<\n",
      ". loss: 0.9699\n",
      ". acc: 0.6850\n",
      ">> test <<\n",
      ". loss: 0.9977\n",
      ". acc: 0.7000\n",
      "\n",
      "Epoch 6/10 avg_loss: 0.8370\n",
      ">> train <<\n",
      ". loss: 0.7101\n",
      ". acc: 0.7600\n",
      ">> test <<\n",
      ". loss: 0.7914\n",
      ". acc: 0.7400\n",
      "\n",
      "Epoch 7/10 avg_loss: 0.6937\n",
      ">> train <<\n",
      ". loss: 0.7313\n",
      ". acc: 0.7710\n",
      ">> test <<\n",
      ". loss: 0.8325\n",
      ". acc: 0.7000\n",
      "\n",
      "Epoch 8/10 avg_loss: 0.5715\n",
      ">> train <<\n",
      ". loss: 0.4885\n",
      ". acc: 0.8540\n",
      ">> test <<\n",
      ". loss: 0.5676\n",
      ". acc: 0.8000\n",
      "\n",
      "Epoch 9/10 avg_loss: 0.4479\n",
      ">> train <<\n",
      ". loss: 0.4037\n",
      ". acc: 0.8790\n",
      ">> test <<\n",
      ". loss: 0.4342\n",
      ". acc: 0.8300\n",
      "\n",
      "Epoch 10/10 avg_loss: 0.3801\n",
      ">> train <<\n",
      ". loss: 0.3433\n",
      ". acc: 0.9040\n",
      ">> test <<\n",
      ". loss: 0.3535\n",
      ". acc: 0.9000\n",
      "\n",
      "Finished Training\n"
     ]
    }
   ],
   "source": [
    "train_results, test_results = run(model, trainloader, testloader, optimizer, n_epochs)"
   ]
  },
  {
   "cell_type": "markdown",
   "metadata": {},
   "source": [
    "## Show results"
   ]
  },
  {
   "cell_type": "code",
   "execution_count": 13,
   "metadata": {},
   "outputs": [],
   "source": [
    "def plot_results(train_results, test_results):\n",
    "    train_loss = [epoch_result[\"loss\"] for epoch_result in train_results]\n",
    "    train_acc = [epoch_result[\"acc\"] for epoch_result in train_results]\n",
    "    test_loss = [epoch_result[\"loss\"] for epoch_result in test_results]\n",
    "    test_acc = [epoch_result[\"acc\"] for epoch_result in test_results]\n",
    "    epoch = np.arange(len(train_results)) + 1\n",
    "    plt.figure(figsize=(10, 5))\n",
    "    plt.subplot(1, 2, 1)\n",
    "    plt.plot(epoch, train_loss, label=\"train\")\n",
    "    plt.plot(epoch, test_loss, label=\"test\")\n",
    "    plt.title(\"Loss\")\n",
    "    plt.legend()\n",
    "    plt.subplot(1, 2, 2)\n",
    "    plt.plot(epoch, train_acc, label=\"train\")\n",
    "    plt.plot(epoch, test_acc, label=\"test\")\n",
    "    plt.title(\"Accuracy\")\n",
    "    plt.legend()\n",
    "    plt.show()"
   ]
  },
  {
   "cell_type": "code",
   "execution_count": 14,
   "metadata": {},
   "outputs": [
    {
     "data": {
      "image/png": "[encoded data removed]",
      "text/plain": [
       "<Figure size 720x360 with 2 Axes>"
      ]
     },
     "metadata": {
      "needs_background": "light"
     },
     "output_type": "display_data"
    }
   ],
   "source": [
    "plot_results(train_results, test_results)"
   ]
  }
 ],
 "metadata": {
  "kernelspec": {
   "display_name": "torch",
   "language": "python",
   "name": "torch"
  },
  "language_info": {
   "codemirror_mode": {
    "name": "ipython",
    "version": 3
   },
   "file_extension": ".py",
   "mimetype": "text/x-python",
   "name": "python",
   "nbconvert_exporter": "python",
   "pygments_lexer": "ipython3",
   "version": "3.6.9"
  }
 },
 "nbformat": 4,
 "nbformat_minor": 4
}
